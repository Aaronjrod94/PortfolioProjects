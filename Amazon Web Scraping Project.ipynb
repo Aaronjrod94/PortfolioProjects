{
 "cells": [
  {
   "cell_type": "code",
   "execution_count": 11,
   "id": "d40d372c",
   "metadata": {},
   "outputs": [],
   "source": [
    "from bs4 import BeautifulSoup\n",
    "import requests\n",
    "import smtplib\n",
    "import time\n",
    "import datetime"
   ]
  },
  {
   "cell_type": "code",
   "execution_count": 19,
   "id": "dec379fc",
   "metadata": {},
   "outputs": [
    {
     "name": "stdout",
     "output_type": "stream",
     "text": [
      "\n",
      "            1984\n",
      "           \n",
      "\n",
      "                         $9.99\n",
      "                        \n"
     ]
    }
   ],
   "source": [
    "# Connect to website\n",
    "URL = 'https://www.amazon.com/dp/0451524934/ref=s9_acsd_al_bw_c2_x_0_t?pf_rd_m=ATVPDKIKX0DER&pf_rd_s=merchandised-search-4&pf_rd_r=0DGNCNWWEYP1TWFDEX9E&pf_rd_t=101&pf_rd_p=fc70d3c2-a39b-4dc5-8432-ecb429c303dc&pf_rd_i=8192263011'\n",
    "\n",
    "headers =  {\"User-Agent\": \"User-Agent\" \"Mozilla/5.0 (Windows NT 10.0; Win64; x64) AppleWebKit/537.36 (KHTML, like Gecko) Chrome/97.0.4692.99 Safari/537.36\"}\n",
    "    \n",
    "page = requests.get(URL,headers=headers)\n",
    "\n",
    "soup1 = BeautifulSoup(page.content,\"html.parser\")\n",
    "\n",
    "soup2 = BeautifulSoup(Soup1.prettify(),\"html.parser\")\n",
    "\n",
    "title = soup2.find(id='productTitle').get_text()\n",
    "\n",
    "price = soup2.find(id=\"listPrice\").get_text()\n",
    "\n",
    "\n",
    "print(title)\n",
    "print(price)\n",
    "\n"
   ]
  },
  {
   "cell_type": "code",
   "execution_count": 22,
   "id": "5d14c531",
   "metadata": {},
   "outputs": [
    {
     "name": "stdout",
     "output_type": "stream",
     "text": [
      "1984\n",
      "9.99\n"
     ]
    }
   ],
   "source": [
    "price = price.strip()[1:]\n",
    "title = title.strip()\n",
    "\n",
    "print(title)\n",
    "print(price)"
   ]
  },
  {
   "cell_type": "code",
   "execution_count": 27,
   "id": "5aa7c6f9",
   "metadata": {},
   "outputs": [
    {
     "name": "stdout",
     "output_type": "stream",
     "text": [
      "2022-02-05\n"
     ]
    }
   ],
   "source": [
    "import datetime\n",
    "\n",
    "today = datetime.date.today()\n",
    "\n",
    "print(today)"
   ]
  },
  {
   "cell_type": "code",
   "execution_count": 29,
   "id": "4fa58757",
   "metadata": {},
   "outputs": [],
   "source": [
    "import csv\n",
    "\n",
    "header = ['Title', 'Price', 'Date']\n",
    "data = [title, price, today]\n",
    "\n",
    "with open('AmazonBooksDataset.csv', 'w', newline='',encoding='UTF8') as f:\n",
    "    writer = csv.writer(f)\n",
    "    writer.writerow(header)\n",
    "    writer.writerow(data)"
   ]
  },
  {
   "cell_type": "code",
   "execution_count": 30,
   "id": "1b2edb29",
   "metadata": {},
   "outputs": [
    {
     "name": "stdout",
     "output_type": "stream",
     "text": [
      "   Title  Price        Date\n",
      "0   1984   9.99  2022-02-05\n"
     ]
    }
   ],
   "source": [
    "import pandas as pd\n",
    "\n",
    "df = pd.read_csv(r'C:/Users/mrodr/AmazonBooksDataset.csv')\n",
    "\n",
    "print(df)"
   ]
  },
  {
   "cell_type": "code",
   "execution_count": 33,
   "id": "bcb4be80",
   "metadata": {},
   "outputs": [],
   "source": [
    "#Now we are appending data to csv\n",
    "with open('AmazonBooksDataset.csv', 'a+', newline='',encoding='UTF8') as f:\n",
    "    writer = csv.writer(f)\n",
    "    writer.writerow(data)"
   ]
  },
  {
   "cell_type": "code",
   "execution_count": 35,
   "id": "2cbd1337",
   "metadata": {},
   "outputs": [],
   "source": [
    "def check_price():\n",
    "    URL = 'https://www.amazon.com/dp/0451524934/ref=s9_acsd_al_bw_c2_x_0_t?pf_rd_m=ATVPDKIKX0DER&pf_rd_s=merchandised-search-4&pf_rd_r=0DGNCNWWEYP1TWFDEX9E&pf_rd_t=101&pf_rd_p=fc70d3c2-a39b-4dc5-8432-ecb429c303dc&pf_rd_i=8192263011'\n",
    "\n",
    "    headers =  {\"User-Agent\": \"User-Agent\" \"Mozilla/5.0 (Windows NT 10.0; Win64; x64) AppleWebKit/537.36 (KHTML, like Gecko) Chrome/97.0.4692.99 Safari/537.36\"}\n",
    "    \n",
    "    page = requests.get(URL,headers=headers)\n",
    "\n",
    "    soup1 = BeautifulSoup(page.content,\"html.parser\")\n",
    "\n",
    "    soup2 = BeautifulSoup(Soup1.prettify(),\"html.parser\")\n",
    "\n",
    "    title = soup2.find(id='productTitle').get_text()\n",
    "\n",
    "    price = soup2.find(id=\"listPrice\").get_text()\n",
    "    \n",
    "    price = price.strip()[1:]\n",
    "    title = title.strip()\n",
    "    \n",
    "    import datetime\n",
    "\n",
    "    today = datetime.date.today()\n",
    "    \n",
    "    import csv\n",
    "\n",
    "    header = ['Title', 'Price', 'Date']\n",
    "    data = [title, price, today]\n",
    "\n",
    "    with open('AmazonBooksDataset.csv', 'a+', newline='',encoding='UTF8') as f:\n",
    "        writer = csv.writer(f)\n",
    "        writer.writerow(data)"
   ]
  },
  {
   "cell_type": "code",
   "execution_count": null,
   "id": "1415ee3e",
   "metadata": {},
   "outputs": [],
   "source": [
    "while(True):\n",
    "    check_price()\n",
    "    time.sleep(86400)"
   ]
  },
  {
   "cell_type": "code",
   "execution_count": 37,
   "id": "18f66b1b",
   "metadata": {},
   "outputs": [
    {
     "name": "stdout",
     "output_type": "stream",
     "text": [
      "    Title  Price        Date\n",
      "0    1984   9.99  2022-02-05\n",
      "1    1984   9.99  2022-02-05\n",
      "2    1984   9.99  2022-02-05\n",
      "3    1984   9.99  2022-02-05\n",
      "4    1984   9.99  2022-02-05\n",
      "5    1984   9.99  2022-02-05\n",
      "6    1984   9.99  2022-02-05\n",
      "7    1984   9.99  2022-02-05\n",
      "8    1984   9.99  2022-02-05\n",
      "9    1984   9.99  2022-02-05\n",
      "10   1984   9.99  2022-02-05\n",
      "11   1984   9.99  2022-02-05\n"
     ]
    }
   ],
   "source": [
    "import pandas as pd\n",
    "\n",
    "df = pd.read_csv(r'C:/Users/mrodr/AmazonBooksDataset.csv')\n",
    "\n",
    "print(df)"
   ]
  },
  {
   "cell_type": "code",
   "execution_count": null,
   "id": "cc2bd195",
   "metadata": {},
   "outputs": [],
   "source": []
  }
 ],
 "metadata": {
  "kernelspec": {
   "display_name": "Python 3 (ipykernel)",
   "language": "python",
   "name": "python3"
  },
  "language_info": {
   "codemirror_mode": {
    "name": "ipython",
    "version": 3
   },
   "file_extension": ".py",
   "mimetype": "text/x-python",
   "name": "python",
   "nbconvert_exporter": "python",
   "pygments_lexer": "ipython3",
   "version": "3.9.7"
  }
 },
 "nbformat": 4,
 "nbformat_minor": 5
}
